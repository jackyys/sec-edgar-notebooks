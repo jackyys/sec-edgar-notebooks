{
 "cells": [
  {
   "cell_type": "markdown",
   "metadata": {
    "collapsed": false,
    "jupyter": {
     "outputs_hidden": false
    }
   },
   "source": [
    "# Chatting with the Knowledge Graph\n",
    "\n"
   ]
  },
  {
   "cell_type": "markdown",
   "metadata": {},
   "source": [
    "### Script - intro to chatting\n",
    "\n",
    "In this notebook, you will be exploring the knowledge graph a bit more.\n",
    "\n",
    "First with cypher queries to directly explore the graph.\n",
    "\n",
    "Then using langchain to create a question and answer chat.\n",
    "\n",
    "Finally, you will use the LLM to combine those techniques."
   ]
  },
  {
   "cell_type": "markdown",
   "metadata": {},
   "source": [
    "## Imports"
   ]
  },
  {
   "cell_type": "markdown",
   "metadata": {},
   "source": [
    "### Script\n",
    "\n",
    "You will start in the usual way, by importing some libraries."
   ]
  },
  {
   "cell_type": "code",
   "execution_count": 9,
   "metadata": {},
   "outputs": [],
   "source": [
    "from dotenv import load_dotenv\n",
    "import os\n",
    "\n",
    "import textwrap\n",
    "\n",
    "# Langchain\n",
    "from langchain_community.graphs import Neo4jGraph\n",
    "from langchain.prompts.prompt import PromptTemplate\n",
    "from langchain.chains import GraphCypherQAChain\n",
    "\n",
    "from langchain_openai import ChatOpenAI\n",
    "from langchain_openai import OpenAIEmbeddings\n",
    "\n",
    "from langchain_community.embeddings import OllamaEmbeddings\n",
    "from langchain_community.chat_models import ChatOllama"
   ]
  },
  {
   "cell_type": "markdown",
   "metadata": {
    "collapsed": false,
    "jupyter": {
     "outputs_hidden": false
    }
   },
   "source": [
    "## Set up Neo4j and Langchain"
   ]
  },
  {
   "cell_type": "markdown",
   "metadata": {},
   "source": [
    "### Script - define global variables\n",
    "\n",
    "Then define the same global variables you've seen before."
   ]
  },
  {
   "cell_type": "code",
   "execution_count": 10,
   "metadata": {
    "collapsed": false,
    "jupyter": {
     "outputs_hidden": false
    }
   },
   "outputs": [
    {
     "name": "stdout",
     "output_type": "stream",
     "text": [
      "Connecting to Neo4j at neo4j://localhost:7687 as neo4j\n",
      "Embedding with ollama using nomic-embed-text\n",
      "Chat with openai using gpt-3.5-turbo-instruct\n"
     ]
    }
   ],
   "source": [
    "# Load from environment\n",
    "load_dotenv(override=True)\n",
    "NEO4J_URI = os.getenv('NEO4J_URI')\n",
    "NEO4J_USERNAME = os.getenv('NEO4J_USERNAME')\n",
    "NEO4J_PASSWORD = os.getenv('NEO4J_PASSWORD')\n",
    "NEO4J_DATABASE = os.getenv('NEO4J_DATABASE') or 'neo4j'\n",
    "\n",
    "# Global constants\n",
    "VECTOR_INDEX_NAME = 'form_10k_chunks'\n",
    "VECTOR_NODE_LABEL = 'Chunk'\n",
    "VECTOR_SOURCE_PROPERTY = 'text'\n",
    "VECTOR_EMBEDDING_PROPERTY = 'textEmbedding'\n",
    "\n",
    "OPENAI_API_KEY = os.getenv('OPENAI_API_KEY')\n",
    "EMBEDDING_API = os.getenv('EMBEDDING_API') or 'openai'\n",
    "EMBEDDING_MODEL = os.getenv('EMBEDDING_MODEL') or 'text-embedding-ada-002'\n",
    "CHAT_API = os.getenv('CHAT_API') or 'openai'\n",
    "CHAT_MODEL = os.getenv('CHAT_MODEL') or 'gpt-3.5-turbo'\n",
    "\n",
    "print(f\"Connecting to Neo4j at {NEO4J_URI} as {NEO4J_USERNAME}\")\n",
    "print(f\"Embedding with {EMBEDDING_API} using {EMBEDDING_MODEL}\")\n",
    "print(f\"Chat with {CHAT_API} using {CHAT_MODEL}\")\n"
   ]
  },
  {
   "cell_type": "code",
   "execution_count": 11,
   "metadata": {
    "collapsed": false,
    "jupyter": {
     "outputs_hidden": false
    }
   },
   "outputs": [],
   "source": [
    "# Create a knowledge graph using Langchain's Neo4j integration.\n",
    "# This will be used for direct querying of the knowledge graph. \n",
    "kg = Neo4jGraph(\n",
    "    url=NEO4J_URI, username=NEO4J_USERNAME, password=NEO4J_PASSWORD, database=NEO4J_DATABASE\n",
    ")\n"
   ]
  },
  {
   "cell_type": "markdown",
   "metadata": {},
   "source": [
    "# Example Cypher queries"
   ]
  },
  {
   "cell_type": "code",
   "execution_count": 6,
   "metadata": {},
   "outputs": [
    {
     "name": "stdout",
     "output_type": "stream",
     "text": [
      "Node properties are the following:\n",
      "Chunk {textEmbedding: LIST, f10kItem: STRING, chunkSeqId: INTEGER, text: STRING, cik: STRING, cusip6: STRING, names: LIST, formId: STRING, source: STRING, chunkId: STRING},Form {cusip6: STRING, names: LIST, formId: STRING, source: STRING},Company {cusip: STRING, names: LIST, companyName: STRING, cusip6: STRING},Manager {managerName: STRING, managerCik: STRING, managerAddress: STRING}\n",
      "Relationship properties are the following:\n",
      "SECTION {f10kItem: STRING},OWNS_STOCK_IN {shares: INTEGER, reportCalendarOrQuarter: STRING, value: FLOAT}\n",
      "The relationships are the following:\n",
      "(:Chunk)-[:NEXT]->(:Chunk),(:Chunk)-[:PART_OF]->(:Form),(:Form)-[:SECTION]->(:Chunk),(:Company)-[:FILED]->(:Form),(:Manager)-[:OWNS_STOCK_IN]->(:Company)\n"
     ]
    }
   ],
   "source": [
    "kg.refresh_schema()\n",
    "\n",
    "# for line in kg.schema.splitlines():\n",
    "#     print(textwrap.fill(line, 100), \"\\n\")\n",
    "\n",
    "print(kg.schema)"
   ]
  },
  {
   "cell_type": "markdown",
   "metadata": {},
   "source": [
    "# Cypher - queries about addresses\n"
   ]
  },
  {
   "cell_type": "code",
   "execution_count": 7,
   "metadata": {},
   "outputs": [
    {
     "data": {
      "text/plain": [
       "[{'node.managerName': 'Royal Bank of Canada', 'score': 4.431276321411133}]"
      ]
     },
     "execution_count": 7,
     "metadata": {},
     "output_type": "execute_result"
    }
   ],
   "source": [
    "# Tell me about a manager named royal bank\n",
    "kg.query(\"\"\"\n",
    "  CALL db.index.fulltext.queryNodes(\n",
    "         \"fullTextManagerNames\", \n",
    "         \"royal bank\") YIELD node, score\n",
    "  RETURN node.managerName, score LIMIT 1\n",
    "\"\"\")"
   ]
  },
  {
   "cell_type": "code",
   "execution_count": 8,
   "metadata": {},
   "outputs": [
    {
     "data": {
      "text/plain": [
       "[]"
      ]
     },
     "execution_count": 8,
     "metadata": {},
     "output_type": "execute_result"
    }
   ],
   "source": [
    "# What is the location of royal bank?\n",
    "kg.query(\"\"\"\n",
    "CALL db.index.fulltext.queryNodes(\n",
    "         \"fullTextManagerNames\", \n",
    "         \"royal bank\"\n",
    "  ) YIELD node, score\n",
    "WITH node as mgr LIMIT 1\n",
    "MATCH (mgr:Manager)-[:LOCATED_AT]->(addr:Address)\n",
    "RETURN mgr.managerName, addr\n",
    "\"\"\")"
   ]
  },
  {
   "cell_type": "code",
   "execution_count": null,
   "metadata": {},
   "outputs": [],
   "source": [
    "# Which state has the most investment firms?\n",
    "kg.query(\"\"\"\n",
    "  MATCH p=(:Manager)-[:LOCATED_AT]->(address:Address)\n",
    "  RETURN address.state as state, count(address.state) as numManagers\n",
    "    ORDER BY numManagers DESC\n",
    "    LIMIT 10\n",
    "\"\"\")"
   ]
  },
  {
   "cell_type": "code",
   "execution_count": null,
   "metadata": {},
   "outputs": [],
   "source": [
    "# Which state has the most public companies listed?\n",
    "kg.query(\"\"\"\n",
    "  MATCH p=(:Company)-[:LOCATED_AT]->(address:Address)\n",
    "  RETURN address.state as state, count(address.state) as numCompanies\n",
    "    ORDER BY numCompanies DESC\n",
    "\"\"\")"
   ]
  },
  {
   "cell_type": "code",
   "execution_count": null,
   "metadata": {},
   "outputs": [],
   "source": [
    "# What are the cities in California with the most investment firms?\n",
    "kg.query(\"\"\"\n",
    "  MATCH p=(:Manager)-[:LOCATED_AT]->(address:Address)\n",
    "         WHERE address.state = 'California'\n",
    "  RETURN address.city as city, count(address.city) as numManagers\n",
    "    ORDER BY numManagers DESC\n",
    "    LIMIT 10\n",
    "\"\"\")"
   ]
  },
  {
   "cell_type": "code",
   "execution_count": null,
   "metadata": {},
   "outputs": [],
   "source": [
    "# Which city in California has the most companies listed?\n",
    "kg.query(\"\"\"\n",
    "  MATCH p=(:Company)-[:LOCATED_AT]->(address:Address)\n",
    "         WHERE address.state = 'California'\n",
    "  RETURN address.city as city, count(address.city) as numCompanies\n",
    "    ORDER BY numCompanies DESC\n",
    "\"\"\")"
   ]
  },
  {
   "cell_type": "code",
   "execution_count": null,
   "metadata": {},
   "outputs": [],
   "source": [
    "# What are top investment firms in San Francisco?\n",
    "kg.query(\"\"\"\n",
    "  MATCH p=(mgr:Manager)-[:LOCATED_AT]->(address:Address),\n",
    "         (mgr)-[owns:OWNS_STOCK_IN]->(:Company)\n",
    "         WHERE address.city = \"San Francisco\"\n",
    "  RETURN mgr.managerName as city, sum(owns.value) as totalInvestmentValue\n",
    "    ORDER BY totalInvestmentValue DESC\n",
    "    LIMIT 10\n",
    "\"\"\")"
   ]
  },
  {
   "cell_type": "code",
   "execution_count": null,
   "metadata": {},
   "outputs": [],
   "source": [
    "# What companies are in Santa Clara?\n",
    "kg.query(\"\"\"\n",
    "  MATCH (com:Company)-[:LOCATED_AT]->(address:Address)\n",
    "         WHERE address.city = \"Santa Clara\"\n",
    "  RETURN com.companyName\n",
    "\"\"\")"
   ]
  },
  {
   "cell_type": "markdown",
   "metadata": {},
   "source": [
    "### Script - cypher queries with cartesian distance\n",
    "\n",
    "So far you've been exploring the graph using explicit relationships.\n",
    "\n",
    "You can also find things based on their location coordinates.\n",
    "\n",
    "This is like doing vector search, but within a 2-dimensional space\n",
    "\n",
    "and using cartesian distance rather than cosine similarity.\n",
    "\n",
    "But the idea is the same."
   ]
  },
  {
   "cell_type": "code",
   "execution_count": 12,
   "metadata": {},
   "outputs": [
    {
     "data": {
      "text/plain": [
       "[{'com.companyName': 'PALO ALTO NETWORKS INC',\n",
       "  'com.companyAddress': '3000 Tannery Way, Santa Clara, CA 95054, USA'},\n",
       " {'com.companyName': 'GSI TECHNOLOGY INC',\n",
       "  'com.companyAddress': '1213 Elko Dr, Sunnyvale, CA 94089, USA'},\n",
       " {'com.companyName': 'NETAPP INC',\n",
       "  'com.companyAddress': 'Headquarters Dr, San Jose, CA 95134, USA'},\n",
       " {'com.companyName': 'WESTERN DIGITAL CORP.',\n",
       "  'com.companyAddress': '615 National Ave # 100, Mountain View, CA 94043, USA'},\n",
       " {'com.companyName': 'SEAGATE TECHNOLOGY',\n",
       "  'com.companyAddress': '2445 Augustine Dr, Santa Clara, CA 95054, USA'},\n",
       " {'com.companyName': 'APPLE INC', 'com.companyAddress': 'Cupertino, CA, USA'}]"
      ]
     },
     "execution_count": 12,
     "metadata": {},
     "output_type": "execute_result"
    }
   ],
   "source": [
    "# What companies are near Santa Clara?\n",
    "kg.query(\"\"\"\n",
    "  MATCH (address:Address)\n",
    "    WHERE address.city = \"Santa Clara\"\n",
    "  MATCH (com:Company)-[:LOCATED_AT]->(companyAddress:Address)\n",
    "    WHERE point.distance(address.location, companyAddress.location) < 10000\n",
    "  RETURN com.companyName, com.companyAddress\n",
    "\"\"\")"
   ]
  },
  {
   "cell_type": "code",
   "execution_count": null,
   "metadata": {},
   "outputs": [],
   "source": [
    "# What investment firms are near Santa Clara?\n",
    "kg.query(\"\"\"\n",
    "  MATCH (address:Address)\n",
    "    WHERE address.city = \"Santa Clara\"\n",
    "  MATCH (mgr:Manager)-[:LOCATED_AT]->(managerAddress:Address)\n",
    "    WHERE point.distance(address.location, managerAddress.location) < 10000\n",
    "  RETURN mgr.managerName, mgr.managerAddress\n",
    "\"\"\")"
   ]
  },
  {
   "cell_type": "code",
   "execution_count": null,
   "metadata": {},
   "outputs": [],
   "source": [
    "# Which investment firms are near Palo Aalto Networks?\n",
    "kg.query(\"\"\"\n",
    "  CALL db.index.fulltext.queryNodes(\n",
    "         \"fullTextCompanyNames\", \n",
    "         \"Palo Aalto Networks\"\n",
    "         ) YIELD node, score\n",
    "  WITH node as com\n",
    "  MATCH (com)-[:LOCATED_AT]->(comAddress:Address),\n",
    "    (mgr:Manager)-[:LOCATED_AT]->(mgrAddress:Address)\n",
    "    WHERE point.distance(comAddress.location, mgrAddress.location) < 20000\n",
    "  RETURN mgr, \n",
    "    toInteger(point.distance(comAddress.location, mgrAddress.location) / 2000) as distanceKm\n",
    "    ORDER BY distanceKm ASC\n",
    "    LIMIT 10\n",
    "\"\"\")"
   ]
  },
  {
   "cell_type": "markdown",
   "metadata": {},
   "source": [
    "### Script - pause and try out variations\n",
    "\n",
    "This is a good time to pause the video and try out some variations\n",
    "of those Cypher queries.\n",
    "\n",
    "Try different distances, company names and cities to see what you get."
   ]
  },
  {
   "cell_type": "markdown",
   "metadata": {},
   "source": [
    "## Cypher - few shot learning\n",
    "\n",
    "Now to try something new, you can use a few shot learning technique.\n",
    "\n",
    "Previously, you had been using vector search by itself, or in combination\n",
    "with a cypher query to provide enough context to answer a user question.\n",
    "\n",
    "Another approach is to teach the LLM about the knowledge graph,\n",
    "then ask it to generate Cypher queries for you.\n",
    "\n",
    "This is called few shot learning. You give the LLM a few examples\n",
    "of natural language questions and their corresponding Cypher queries.\n",
    "\n",
    "Then you can ask it to generate a Cypher query for a new question."
   ]
  },
  {
   "cell_type": "markdown",
   "metadata": {},
   "source": [
    "### Script - cypher generation template\n",
    "\n",
    "Let's look at the prompt you will use to teach the LLM about the knowledge graph."
   ]
  },
  {
   "cell_type": "code",
   "execution_count": 13,
   "metadata": {},
   "outputs": [],
   "source": [
    "CYPHER_GENERATION_TEMPLATE = \"\"\"Task:Generate Cypher statement to query a graph database.\n",
    "Instructions:\n",
    "Use only the provided relationship types and properties in the schema.\n",
    "Do not use any other relationship types or properties that are not provided.\n",
    "Schema:\n",
    "{schema}\n",
    "Note: Do not include any explanations or apologies in your responses.\n",
    "Do not respond to any questions that might ask anything else than for you to construct a Cypher statement.\n",
    "Do not include any text except the generated Cypher statement.\n",
    "Examples: Here are a few examples of generated Cypher statements for particular questions:\n",
    "\n",
    "# What are the top investment firms are in San Francisco?\n",
    "MATCH (mgr:Manager)-[:LOCATED_AT]->(mgrAddress:Address)\n",
    "    WHERE mgrAddress.city = 'San Francisco'\n",
    "RETURN mgr.managerName\n",
    "\n",
    "# What companies are in Santa Clara?\n",
    "MATCH (com:Company)-[:LOCATED_AT]->(comAddress:Address)\n",
    "    WHERE comAddress.city = 'Santa Clara'\n",
    "RETURN com.companyName\n",
    "\n",
    "# What investment firms are near Santa Clara?\n",
    "  MATCH (address:Address)\n",
    "    WHERE address.city = \"Santa Clara\"\n",
    "  MATCH (mgr:Manager)-[:LOCATED_AT]->(managerAddress:Address)\n",
    "    WHERE point.distance(address.location, managerAddress.location) < 20 * 1000\n",
    "  RETURN mgr.managerName, mgr.managerAddress\n",
    "\n",
    "# Which investment firms are near Palo Aalto Networks?\n",
    "  CALL db.index.fulltext.queryNodes(\n",
    "         \"fullTextCompanyNames\", \n",
    "         \"Palo Aalto Networks\"\n",
    "         ) YIELD node, score\n",
    "  WITH node as com\n",
    "  MATCH (com)-[:LOCATED_AT]->(comAddress:Address),\n",
    "    (mgr:Manager)-[:LOCATED_AT]->(mgrAddress:Address)\n",
    "    WHERE point.distance(comAddress.location, mgrAddress.location) < 20 * 1000\n",
    "  RETURN mgr, \n",
    "    toInteger(point.distance(comAddress.location, mgrAddress.location) / 1000) as distanceKm\n",
    "    ORDER BY distanceKm ASC\n",
    "    LIMIT 10\n",
    "  \n",
    "The question is:\n",
    "{question}\"\"\""
   ]
  },
  {
   "cell_type": "code",
   "execution_count": 14,
   "metadata": {},
   "outputs": [],
   "source": [
    "CYPHER_GENERATION_PROMPT = PromptTemplate(\n",
    "    input_variables=[\"schema\", \"question\"], template=CYPHER_GENERATION_TEMPLATE\n",
    ")\n",
    "\n",
    "cypherChain = GraphCypherQAChain.from_llm(\n",
    "    ChatOpenAI(temperature=0),\n",
    "    graph=kg,\n",
    "    verbose=True,\n",
    "    cypher_prompt=CYPHER_GENERATION_PROMPT,\n",
    ")\n",
    "\n",
    "def prettyCypherChain(question: str) -> str:\n",
    "    response = cypherChain.run(question)\n",
    "    print(textwrap.fill(response, 60))\n"
   ]
  },
  {
   "cell_type": "code",
   "execution_count": 15,
   "metadata": {},
   "outputs": [
    {
     "name": "stdout",
     "output_type": "stream",
     "text": [
      "\n",
      "\n",
      "\u001b[1m> Entering new GraphCypherQAChain chain...\u001b[0m\n",
      "Generated Cypher:\n",
      "\u001b[32;1m\u001b[1;3mMATCH (mgr:Manager)-[:LOCATED_AT]->(mgrAddress:Address)\n",
      "    WHERE mgrAddress.city = 'San Francisco'\n",
      "RETURN mgr.managerName\u001b[0m\n",
      "Full Context:\n",
      "\u001b[32;1m\u001b[1;3m[{'mgr.managerName': 'PARNASSUS INVESTMENTS, LLC'}, {'mgr.managerName': 'SKBA CAPITAL MANAGEMENT LLC'}, {'mgr.managerName': 'ROSENBLUM SILVERMAN SUTTON S F INC /CA'}, {'mgr.managerName': 'CHARLES SCHWAB INVESTMENT MANAGEMENT INC'}, {'mgr.managerName': 'WELLS FARGO & COMPANY/MN'}, {'mgr.managerName': 'Dodge & Cox'}, {'mgr.managerName': 'Strait & Sound Wealth Management LLC'}, {'mgr.managerName': 'Sonoma Private Wealth LLC'}, {'mgr.managerName': 'Fund Management at Engine No. 1 LLC'}, {'mgr.managerName': 'SELDON CAPITAL LP'}]\u001b[0m\n",
      "\n",
      "\u001b[1m> Finished chain.\u001b[0m\n",
      "PARNASSUS INVESTMENTS, LLC and Dodge & Cox are investment\n",
      "firms located in San Francisco.\n"
     ]
    }
   ],
   "source": [
    "prettyCypherChain(\"What investment firms are in San Francisco?\")"
   ]
  },
  {
   "cell_type": "code",
   "execution_count": 16,
   "metadata": {},
   "outputs": [
    {
     "name": "stdout",
     "output_type": "stream",
     "text": [
      "\n",
      "\n",
      "\u001b[1m> Entering new GraphCypherQAChain chain...\u001b[0m\n",
      "Generated Cypher:\n",
      "\u001b[32;1m\u001b[1;3mMATCH (com:Company)-[:LOCATED_AT]->(comAddress:Address)\n",
      "WHERE comAddress.city = 'Santa Clara'\n",
      "RETURN com.companyName\u001b[0m\n",
      "Full Context:\n",
      "\u001b[32;1m\u001b[1;3m[{'com.companyName': 'PALO ALTO NETWORKS INC'}, {'com.companyName': 'SEAGATE TECHNOLOGY'}]\u001b[0m\n",
      "\n",
      "\u001b[1m> Finished chain.\u001b[0m\n",
      "The companies in Santa Clara are PALO ALTO NETWORKS INC and\n",
      "SEAGATE TECHNOLOGY.\n"
     ]
    }
   ],
   "source": [
    "prettyCypherChain(\"What companies are in Santa Clara?\")"
   ]
  },
  {
   "cell_type": "code",
   "execution_count": 17,
   "metadata": {},
   "outputs": [
    {
     "name": "stdout",
     "output_type": "stream",
     "text": [
      "\n",
      "\n",
      "\u001b[1m> Entering new GraphCypherQAChain chain...\u001b[0m\n",
      "Generated Cypher:\n",
      "\u001b[32;1m\u001b[1;3mMATCH (address:Address)\n",
      "    WHERE address.city = \"Santa Clara\"\n",
      "MATCH (mgr:Manager)-[:LOCATED_AT]->(managerAddress:Address)\n",
      "    WHERE point.distance(address.location, managerAddress.location) < 20 * 1000\n",
      "RETURN mgr.managerName, mgr.managerAddress\u001b[0m\n",
      "Full Context:\n",
      "\u001b[32;1m\u001b[1;3m[{'mgr.managerName': 'Roberts Wealth Advisors, LLC', 'mgr.managerAddress': '855 EL CAMINO REAL, #311 BUILDING 5, PALO ALTO, CA, 94301'}, {'mgr.managerName': 'Adero Partners, LLC', 'mgr.managerAddress': '306 CAMBRIDGE AVENUE, PALO ALTO, CA, 94306'}, {'mgr.managerName': 'Wealthfront Advisers LLC', 'mgr.managerAddress': '261 Hamilton Ave, Palo Alto, CA, 94301'}, {'mgr.managerName': 'Redwood Grove Capital, LLC', 'mgr.managerAddress': '530 LYTTON AVENUE, 2ND FLOOR, Palo Alto, CA, 94301'}, {'mgr.managerName': 'LIGHT STREET CAPITAL MANAGEMENT, LLC', 'mgr.managerAddress': '505 Hamilton Avenue, Suite 110, Palo Alto, CA, 94301'}, {'mgr.managerName': 'Sand Hill Global Advisors, LLC', 'mgr.managerAddress': '245 Lytton Ave, Suite 300, Palo Alto, CA, 94301'}, {'mgr.managerName': 'Legacy Capital Group California, Inc.', 'mgr.managerAddress': '459 MONTEREY AVENUE, SUITE 100, LOS GATOS, CA, 95030'}, {'mgr.managerName': 'Comprehensive Financial Management LLC', 'mgr.managerAddress': '720 University Avenue, Suite 200, Los Gatos, CA, 95032'}, {'mgr.managerName': 'SCHARF INVESTMENTS, LLC', 'mgr.managerAddress': '16450 LOS GATOS BLVD, SUITE 207, LOS GATOS, CA, 95032'}, {'mgr.managerName': 'Wealth Architects, LLC', 'mgr.managerAddress': '800 WEST EL CAMINO REAL SUITE 201, MOUNTAIN VIEW, CA, 94040'}]\u001b[0m\n",
      "\n",
      "\u001b[1m> Finished chain.\u001b[0m\n",
      "Some investment firms near Santa Clara include Roberts\n",
      "Wealth Advisors, LLC in Palo Alto, Wealthfront Advisers LLC\n",
      "in Palo Alto, and Sand Hill Global Advisors, LLC in Palo\n",
      "Alto.\n"
     ]
    }
   ],
   "source": [
    "prettyCypherChain(\"What investment firms are near Santa Clara?\")"
   ]
  },
  {
   "cell_type": "code",
   "execution_count": 18,
   "metadata": {},
   "outputs": [
    {
     "name": "stdout",
     "output_type": "stream",
     "text": [
      "\n",
      "\n",
      "\u001b[1m> Entering new GraphCypherQAChain chain...\u001b[0m\n",
      "Generated Cypher:\n",
      "\u001b[32;1m\u001b[1;3mCALL db.index.fulltext.queryNodes(\n",
      "     \"fullTextCompanyNames\", \n",
      "     \"Palo Aalto Networks\"\n",
      "     ) YIELD node, score\n",
      "WITH node as com\n",
      "MATCH (com)-[:LOCATED_AT]->(comAddress:Address),\n",
      "  (mgr:Manager)-[:LOCATED_AT]->(mgrAddress:Address)\n",
      "WHERE point.distance(comAddress.location, mgrAddress.location) < 20 * 1000\n",
      "RETURN mgr, \n",
      "  toInteger(point.distance(comAddress.location, mgrAddress.location) / 1000) as distanceKm\n",
      "  ORDER BY distanceKm ASC\n",
      "  LIMIT 10\u001b[0m\n",
      "Full Context:\n",
      "\u001b[32;1m\u001b[1;3m[{'mgr': {'managerCik': '1611518', 'managerAddress': '800 WEST EL CAMINO REAL SUITE 201, MOUNTAIN VIEW, CA, 94040', 'location': POINT(-122.0842031 37.3862077), 'managerName': 'Wealth Architects, LLC'}, 'distanceKm': 7}, {'mgr': {'managerCik': '1630365', 'managerAddress': '4984 EL CAMINO REAL, SUITE 101, LOS ALTOS, CA, 94022', 'location': POINT(-122.105859 37.397132), 'managerName': 'AIMZ Investment Advisors, LLC'}, 'distanceKm': 13}, {'mgr': {'managerCik': '1911695', 'managerAddress': '1064 LAURELES DRIVE, LOS ALTOS, CA, 94022', 'location': POINT(-122.1239047 37.4017779), 'managerName': 'Family CFO Inc'}, 'distanceKm': 13}, {'mgr': {'managerCik': '1977092', 'managerAddress': '459 MONTEREY AVENUE, SUITE 100, LOS GATOS, CA, 95030', 'location': POINT(-121.9812582 37.2317728), 'managerName': 'Legacy Capital Group California, Inc.'}, 'distanceKm': 16}, {'mgr': {'managerCik': '1463746', 'managerAddress': '16450 LOS GATOS BLVD, SUITE 207, LOS GATOS, CA, 95032', 'location': POINT(-121.9652627 37.2298178), 'managerName': 'SCHARF INVESTMENTS, LLC'}, 'distanceKm': 16}, {'mgr': {'managerCik': '1799802', 'managerAddress': '720 University Avenue, Suite 200, Los Gatos, CA, 95032', 'location': POINT(-121.9746688 37.2379941), 'managerName': 'Comprehensive Financial Management LLC'}, 'distanceKm': 16}, {'mgr': {'managerCik': '1009209', 'managerAddress': '245 Lytton Ave, Suite 300, Palo Alto, CA, 94301', 'location': POINT(-122.164078 37.445987), 'managerName': 'Sand Hill Global Advisors, LLC'}, 'distanceKm': 17}, {'mgr': {'managerCik': '1763921', 'managerAddress': '261 Hamilton Ave, Palo Alto, CA, 94301', 'location': POINT(-122.1609675 37.4448605), 'managerName': 'Wealthfront Advisers LLC'}, 'distanceKm': 17}, {'mgr': {'managerCik': '1569049', 'managerAddress': '505 Hamilton Avenue, Suite 110, Palo Alto, CA, 94301', 'location': POINT(-122.1579417 37.447873), 'managerName': 'LIGHT STREET CAPITAL MANAGEMENT, LLC'}, 'distanceKm': 17}, {'mgr': {'managerCik': '1691170', 'managerAddress': '530 LYTTON AVENUE, 2ND FLOOR, Palo Alto, CA, 94301', 'location': POINT(-122.1599625 37.4492425), 'managerName': 'Redwood Grove Capital, LLC'}, 'distanceKm': 17}]\u001b[0m\n",
      "\n",
      "\u001b[1m> Finished chain.\u001b[0m\n",
      "The investment firms near Palo Alto Networks are Sand Hill\n",
      "Global Advisors, Wealthfront Advisers LLC, LIGHT STREET\n",
      "CAPITAL MANAGEMENT, LLC, and Redwood Grove Capital, LLC.\n"
     ]
    }
   ],
   "source": [
    "prettyCypherChain(\"Which investment firms are near Palo Aalto Networks?\")"
   ]
  },
  {
   "cell_type": "code",
   "execution_count": null,
   "metadata": {},
   "outputs": [],
   "source": []
  }
 ],
 "metadata": {
  "kernelspec": {
   "display_name": "Python 3 (ipykernel)",
   "language": "python",
   "name": "python3"
  },
  "language_info": {
   "codemirror_mode": {
    "name": "ipython",
    "version": 3
   },
   "file_extension": ".py",
   "mimetype": "text/x-python",
   "name": "python",
   "nbconvert_exporter": "python",
   "pygments_lexer": "ipython3",
   "version": "3.11.6"
  }
 },
 "nbformat": 4,
 "nbformat_minor": 4
}
