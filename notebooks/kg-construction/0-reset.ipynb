{
 "cells": [
  {
   "cell_type": "markdown",
   "metadata": {
    "collapsed": false,
    "jupyter": {
     "outputs_hidden": false
    }
   },
   "source": [
    "# Reset the Knowledge Graph"
   ]
  },
  {
   "cell_type": "markdown",
   "metadata": {},
   "source": [
    "## Imports"
   ]
  },
  {
   "cell_type": "markdown",
   "metadata": {},
   "source": [
    "### Import python packages\n",
    "\n",
    "To start, load some useful python packages, including some great stuff from langchain.\n",
    "The \"shared\" notebook also sets up global constants like the connection to Neo4j,\n",
    "embedding model to use, and the LLM to use for chat.\n"
   ]
  },
  {
   "cell_type": "code",
   "execution_count": null,
   "metadata": {},
   "outputs": [],
   "source": [
    "%run 'shared.ipynb'"
   ]
  },
  {
   "cell_type": "markdown",
   "metadata": {
    "collapsed": false,
    "jupyter": {
     "outputs_hidden": false
    }
   },
   "source": [
    "## Set up Neo4j and Langchain"
   ]
  },
  {
   "cell_type": "markdown",
   "metadata": {},
   "source": [
    "### Prepare a knowledge graph interface\n",
    "\n",
    "You can use the Langchain `Neo4jGraph` interface to send queries\n",
    "to the Knowledge Graph."
   ]
  },
  {
   "cell_type": "code",
   "execution_count": null,
   "metadata": {},
   "outputs": [],
   "source": [
    "# Create a knowledge graph using Langchain's Neo4j integration.\n",
    "# This will be used for direct querying of the knowledge graph. \n",
    "kg = Neo4jGraph(\n",
    "    url=NEO4J_URI, username=NEO4J_USERNAME, password=NEO4J_PASSWORD, database=NEO4J_DATABASE\n",
    ")\n",
    "kg.query(\"RETURN 'Hello, World!' AS message\") # Test the connection by running a simple query"
   ]
  },
  {
   "cell_type": "markdown",
   "metadata": {},
   "source": [
    "# Clean up the graph to remove any existing data and indexes\n",
    "\n",
    "Use these queries to reset the current graph to a blank state,\n",
    "with no indexes, contraints or data."
   ]
  },
  {
   "cell_type": "code",
   "execution_count": null,
   "metadata": {},
   "outputs": [],
   "source": [
    "for constraint in kg.query('SHOW CONSTRAINTS'):\n",
    "    print(f\"Removing constraint {constraint['name']}:\")\n",
    "    kg.query(f\"DROP CONSTRAINT {constraint['name']}\")"
   ]
  },
  {
   "cell_type": "code",
   "execution_count": null,
   "metadata": {},
   "outputs": [],
   "source": [
    "for index in kg.query('SHOW INDEXES'):\n",
    "    print(f\"Removing index {index['name']}:\")\n",
    "    kg.query(f\"\"\"\n",
    "        DROP INDEX `{index['name']}`\n",
    "    \"\"\")"
   ]
  },
  {
   "cell_type": "code",
   "execution_count": null,
   "metadata": {},
   "outputs": [],
   "source": [
    "# Remove all data by matching any node, then \"detach deleting\" it,\n",
    "# which means removing the node and all its relationships.\n",
    "kg.query(\"\"\"\n",
    "        MATCH (all)\n",
    "        DETACH DELETE all\n",
    "\"\"\")"
   ]
  },
  {
   "cell_type": "markdown",
   "metadata": {},
   "source": [
    "## Basic Cypher Queries"
   ]
  },
  {
   "cell_type": "markdown",
   "metadata": {},
   "source": [
    "### Script - helpful way to show schema"
   ]
  },
  {
   "cell_type": "code",
   "execution_count": null,
   "metadata": {},
   "outputs": [],
   "source": [
    "def show_schema(kg):\n",
    "  kg.refresh_schema()\n",
    "  print(kg.schema)\n",
    "\n",
    "show_schema(kg)"
   ]
  },
  {
   "cell_type": "code",
   "execution_count": null,
   "metadata": {},
   "outputs": [],
   "source": []
  }
 ],
 "metadata": {
  "kernelspec": {
   "display_name": "Python 3 (ipykernel)",
   "language": "python",
   "name": "python3"
  },
  "language_info": {
   "codemirror_mode": {
    "name": "ipython",
    "version": 3
   },
   "file_extension": ".py",
   "mimetype": "text/x-python",
   "name": "python",
   "nbconvert_exporter": "python",
   "pygments_lexer": "ipython3",
   "version": "3.11.6"
  }
 },
 "nbformat": 4,
 "nbformat_minor": 4
}
